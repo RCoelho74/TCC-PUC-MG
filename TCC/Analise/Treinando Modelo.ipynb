{
 "cells": [
  {
   "cell_type": "code",
   "execution_count": 21,
   "metadata": {},
   "outputs": [],
   "source": [
    "import pandas as pd\n",
    "from sklearn.model_selection import train_test_split\n",
    "from sklearn.linear_model import LinearRegression\n",
    "from sklearn.metrics import mean_squared_error\n",
    "\n",
    "datasetGafisa = pd.read_csv('C:/Users/Lapin/Documents/Pytest/dados/GFSA35A.csv')\n"
   ]
  },
  {
   "cell_type": "code",
   "execution_count": 22,
   "metadata": {},
   "outputs": [],
   "source": [
    "treino = datasetGafisa\n",
    "dados = ['Open','High','Low','Volume']\n",
    "treino = treino[dados]\n",
    "y = datasetGafisa['Close']"
   ]
  },
  {
   "cell_type": "code",
   "execution_count": 23,
   "metadata": {},
   "outputs": [],
   "source": [
    "X_treino, X_teste, y_treino, y_teste = train_test_split(treino, y,random_state=42)\n"
   ]
  },
  {
   "cell_type": "code",
   "execution_count": 24,
   "metadata": {},
   "outputs": [
    {
     "data": {
      "text/plain": [
       "LinearRegression(copy_X=True, fit_intercept=True, n_jobs=1, normalize=False)"
      ]
     },
     "execution_count": 24,
     "metadata": {},
     "output_type": "execute_result"
    }
   ],
   "source": [
    "#Criando um objeto do tipo LinearRegression\n",
    "meu_modelo = LinearRegression()\n",
    "#Treinando o modelo utilizando o método fit\n",
    "meu_modelo.fit(X_treino,y_treino)"
   ]
  },
  {
   "cell_type": "code",
   "execution_count": 25,
   "metadata": {},
   "outputs": [
    {
     "data": {
      "text/plain": [
       "array([-5.62279863e-01,  8.29654080e-01,  7.36376529e-01, -8.53821847e-09])"
      ]
     },
     "execution_count": 25,
     "metadata": {},
     "output_type": "execute_result"
    }
   ],
   "source": [
    "meu_modelo.coef_"
   ]
  },
  {
   "cell_type": "code",
   "execution_count": 26,
   "metadata": {},
   "outputs": [
    {
     "data": {
      "text/plain": [
       "array([10.52940647,  5.21821641, 15.36722422,  9.9784941 , 15.2470691 ,\n",
       "       14.38071233, 11.77267834, 20.18886173, 14.37430434, 17.67363521,\n",
       "        5.8481956 , 15.69284279, 18.26440067, 15.24739958,  5.90187693,\n",
       "        7.89937524,  8.43275238, 11.18208441,  8.14532867,  6.58032196])"
      ]
     },
     "execution_count": 26,
     "metadata": {},
     "output_type": "execute_result"
    }
   ],
   "source": [
    "meu_modelo.predict(X_teste)[:20]"
   ]
  },
  {
   "cell_type": "code",
   "execution_count": 27,
   "metadata": {},
   "outputs": [
    {
     "data": {
      "text/plain": [
       "680     10.679100\n",
       "1102     5.410000\n",
       "394     15.065900\n",
       "930      9.967880\n",
       "497     15.388800\n",
       "462     14.635500\n",
       "950     11.817100\n",
       "81      19.908501\n",
       "43      14.205000\n",
       "128     17.325800\n",
       "1170     5.830000\n",
       "743     16.101999\n",
       "513     18.079100\n",
       "461     15.173500\n",
       "1167     5.940000\n",
       "1239     8.050000\n",
       "1050     8.262960\n",
       "945     11.447300\n",
       "1043     8.082550\n",
       "1139     6.440000\n",
       "Name: Close, dtype: float64"
      ]
     },
     "execution_count": 27,
     "metadata": {},
     "output_type": "execute_result"
    }
   ],
   "source": [
    "y_teste[:20]\n"
   ]
  },
  {
   "cell_type": "code",
   "execution_count": 32,
   "metadata": {},
   "outputs": [
    {
     "data": {
      "text/plain": [
       "0.1983745195930774"
      ]
     },
     "execution_count": 32,
     "metadata": {},
     "output_type": "execute_result"
    }
   ],
   "source": [
    "#Validando o modelo\n",
    "RMSE = mean_squared_error(y_teste, meu_modelo.predict(X_teste))**0.5\n",
    "RMSE"
   ]
  },
  {
   "cell_type": "code",
   "execution_count": 56,
   "metadata": {},
   "outputs": [],
   "source": [
    "#Novo modelo\n",
    "meu_modelo2 = LinearRegression()\n",
    "features = ['Open','High', 'Low']\n",
    "treino2 = treino[features]"
   ]
  },
  {
   "cell_type": "code",
   "execution_count": 57,
   "metadata": {},
   "outputs": [],
   "source": [
    "\n",
    "X_treino, X_teste, y_treino, y_teste = train_test_split(\n",
    "treino2, y, random_state=42)"
   ]
  },
  {
   "cell_type": "code",
   "execution_count": 58,
   "metadata": {},
   "outputs": [
    {
     "data": {
      "text/plain": [
       "LinearRegression(copy_X=True, fit_intercept=True, n_jobs=1, normalize=False)"
      ]
     },
     "execution_count": 58,
     "metadata": {},
     "output_type": "execute_result"
    }
   ],
   "source": [
    "meu_modelo2.fit(X_treino,y_treino)"
   ]
  },
  {
   "cell_type": "code",
   "execution_count": 59,
   "metadata": {},
   "outputs": [
    {
     "data": {
      "text/plain": [
       "array([-0.55878929,  0.81504092,  0.74937099])"
      ]
     },
     "execution_count": 59,
     "metadata": {},
     "output_type": "execute_result"
    }
   ],
   "source": [
    "meu_modelo2.coef_"
   ]
  },
  {
   "cell_type": "code",
   "execution_count": 60,
   "metadata": {},
   "outputs": [
    {
     "data": {
      "text/plain": [
       "array([10.51720052,  5.21621284, 15.36826812,  9.97061876, 15.24662262,\n",
       "       14.38430598, 11.77442873, 20.19204598, 14.36883564, 17.67047932,\n",
       "        5.84639741, 15.69667441, 18.26961556, 15.24506638,  5.90609688,\n",
       "        7.92550144,  8.42729143, 11.19370435,  8.14458676,  6.5724257 ])"
      ]
     },
     "execution_count": 60,
     "metadata": {},
     "output_type": "execute_result"
    }
   ],
   "source": [
    "meu_modelo2.predict(X_teste)[:20]"
   ]
  },
  {
   "cell_type": "code",
   "execution_count": 61,
   "metadata": {},
   "outputs": [
    {
     "data": {
      "text/plain": [
       "680     10.679100\n",
       "1102     5.410000\n",
       "394     15.065900\n",
       "930      9.967880\n",
       "497     15.388800\n",
       "462     14.635500\n",
       "950     11.817100\n",
       "81      19.908501\n",
       "43      14.205000\n",
       "128     17.325800\n",
       "1170     5.830000\n",
       "743     16.101999\n",
       "513     18.079100\n",
       "461     15.173500\n",
       "1167     5.940000\n",
       "1239     8.050000\n",
       "1050     8.262960\n",
       "945     11.447300\n",
       "1043     8.082550\n",
       "1139     6.440000\n",
       "Name: Close, dtype: float64"
      ]
     },
     "execution_count": 61,
     "metadata": {},
     "output_type": "execute_result"
    }
   ],
   "source": [
    "y_teste[:20]"
   ]
  },
  {
   "cell_type": "code",
   "execution_count": 62,
   "metadata": {},
   "outputs": [
    {
     "data": {
      "text/plain": [
       "0.1986556067047513"
      ]
     },
     "execution_count": 62,
     "metadata": {},
     "output_type": "execute_result"
    }
   ],
   "source": [
    "\n",
    "RMSE = mean_squared_error(y_teste, meu_modelo2.predict(X_teste))**0.5\n",
    "RMSE"
   ]
  },
  {
   "cell_type": "code",
   "execution_count": 64,
   "metadata": {},
   "outputs": [],
   "source": [
    "#Terceiro modelo\n",
    "meu_modelo3 = LinearRegression()\n",
    "features = ['High', 'Low']\n",
    "treino3 = treino[features]"
   ]
  },
  {
   "cell_type": "code",
   "execution_count": 65,
   "metadata": {},
   "outputs": [],
   "source": [
    "X_treino, X_teste, y_treino, y_teste = train_test_split(\n",
    "treino3, y, random_state=42)"
   ]
  },
  {
   "cell_type": "code",
   "execution_count": 66,
   "metadata": {},
   "outputs": [
    {
     "data": {
      "text/plain": [
       "LinearRegression(copy_X=True, fit_intercept=True, n_jobs=1, normalize=False)"
      ]
     },
     "execution_count": 66,
     "metadata": {},
     "output_type": "execute_result"
    }
   ],
   "source": [
    "meu_modelo3.fit(X_treino,y_treino)"
   ]
  },
  {
   "cell_type": "code",
   "execution_count": 67,
   "metadata": {},
   "outputs": [
    {
     "data": {
      "text/plain": [
       "array([0.52030955, 0.48476655])"
      ]
     },
     "execution_count": 67,
     "metadata": {},
     "output_type": "execute_result"
    }
   ],
   "source": [
    "meu_modelo3.coef_"
   ]
  },
  {
   "cell_type": "code",
   "execution_count": 68,
   "metadata": {},
   "outputs": [
    {
     "data": {
      "text/plain": [
       "0.22989987925281297"
      ]
     },
     "execution_count": 68,
     "metadata": {},
     "output_type": "execute_result"
    }
   ],
   "source": [
    "RMSE = mean_squared_error(y_teste, meu_modelo3.predict(X_teste))**0.5\n",
    "RMSE"
   ]
  }
 ],
 "metadata": {
  "kernelspec": {
   "display_name": "Python 3",
   "language": "python",
   "name": "python3"
  },
  "language_info": {
   "codemirror_mode": {
    "name": "ipython",
    "version": 3
   },
   "file_extension": ".py",
   "mimetype": "text/x-python",
   "name": "python",
   "nbconvert_exporter": "python",
   "pygments_lexer": "ipython3",
   "version": "3.7.0"
  }
 },
 "nbformat": 4,
 "nbformat_minor": 2
}
